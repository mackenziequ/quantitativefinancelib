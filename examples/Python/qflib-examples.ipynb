{
 "cells": [
  {
   "cell_type": "markdown",
   "id": "431f3433-79b3-4468-99a7-a8e1c771b141",
   "metadata": {
    "tags": []
   },
   "source": [
    "## qflib Library Examples"
   ]
  },
  {
   "cell_type": "code",
   "execution_count": 24,
   "id": "18bfdc25-3d7d-4508-bf2f-c798f544e650",
   "metadata": {},
   "outputs": [
    {
     "name": "stdout",
     "output_type": "stream",
     "text": [
      "qflib version: 0.2.0-debug\n",
      "pid: 700\n"
     ]
    }
   ],
   "source": [
    "import qflib as qf\n",
    "import numpy as np\n",
    "import os\n",
    "\n",
    "print(\"qflib version: {0}\".format(qf.version()))\n",
    "print(\"pid: {0}\".format(os.getpid()))"
   ]
  },
  {
   "cell_type": "code",
   "execution_count": 25,
   "id": "89159a01-6357-4134-86db-72162a5a286b",
   "metadata": {},
   "outputs": [
    {
     "name": "stdout",
     "output_type": "stream",
     "text": [
      "Hello World!\n"
     ]
    }
   ],
   "source": [
    "name = \"World\"\n",
    "print(qf.sayHello(name))"
   ]
  },
  {
   "cell_type": "code",
   "execution_count": 26,
   "id": "a09cb38f-fb87-4248-b93b-243dac898e01",
   "metadata": {},
   "outputs": [
    {
     "name": "stdout",
     "output_type": "stream",
     "text": [
      "x: [1, 2, 3]\n",
      "y: [4, 5]\n",
      "outerProd:\n",
      "[[ 4.  5.]\n",
      " [ 8. 10.]\n",
      " [12. 15.]]\n"
     ]
    }
   ],
   "source": [
    "x = [1, 2, 3]\n",
    "y = [4, 5]\n",
    "op = qf.outerProd(x, y)\n",
    "print(f'x: {x}\\ny: {y}')\n",
    "print(f'outerProd:\\n{op}')"
   ]
  },
  {
   "cell_type": "markdown",
   "id": "17b8d7be-26a6-4b09-bf80-b3e36875202c",
   "metadata": {},
   "source": [
    "### Analytic Prices"
   ]
  },
  {
   "cell_type": "code",
   "execution_count": 27,
   "id": "82c85ec6-31c0-4c08-8bf0-c777687672e7",
   "metadata": {},
   "outputs": [
    {
     "name": "stdout",
     "output_type": "stream",
     "text": [
      "FwdPrice=98.0199\n"
     ]
    }
   ],
   "source": [
    "#fwdprice\n",
    "fwdpx = qf.fwdPrice(spot = 100, timetoexp = 1.0, intrate = 0.02, divyield = 0.04)\n",
    "print(f'FwdPrice={fwdpx:.4f}')"
   ]
  },
  {
   "cell_type": "code",
   "execution_count": 28,
   "id": "dcdb66e3-ce85-4708-8376-cdf0533c7ea4",
   "metadata": {},
   "outputs": [
    {
     "name": "stdout",
     "output_type": "stream",
     "text": [
      "Quanto FwdPrice=99.0050 for rho=-1.00\n",
      "Quanto FwdPrice=99.4018 for rho=-0.90\n",
      "Quanto FwdPrice=99.8002 for rho=-0.80\n",
      "Quanto FwdPrice=100.2002 for rho=-0.70\n",
      "Quanto FwdPrice=100.6018 for rho=-0.60\n",
      "Quanto FwdPrice=101.0050 for rho=-0.50\n",
      "Quanto FwdPrice=101.4098 for rho=-0.40\n",
      "Quanto FwdPrice=101.8163 for rho=-0.30\n",
      "Quanto FwdPrice=102.2244 for rho=-0.20\n",
      "Quanto FwdPrice=102.6341 for rho=-0.10\n",
      "Quanto FwdPrice=103.0455 for rho=0.00\n",
      "Quanto FwdPrice=103.4585 for rho=0.10\n",
      "Quanto FwdPrice=103.8731 for rho=0.20\n",
      "Quanto FwdPrice=104.2894 for rho=0.30\n",
      "Quanto FwdPrice=104.7074 for rho=0.40\n",
      "Quanto FwdPrice=105.1271 for rho=0.50\n",
      "Quanto FwdPrice=105.5485 for rho=0.60\n",
      "Quanto FwdPrice=105.9715 for rho=0.70\n",
      "Quanto FwdPrice=106.3962 for rho=0.80\n",
      "Quanto FwdPrice=106.8227 for rho=0.90\n",
      "Quanto FwdPrice=107.2508 for rho=1.00\n"
     ]
    }
   ],
   "source": [
    "#quantoFwdPrice\n",
    "for rho in np.linspace(-1, 1, 21):\n",
    "    qfpx = qf.qFwdPrice(spot = 100, timetoexp = 1.0, intrate = 0.04, divyield = 0.01, assetvol = 0.4, fxvol = 0.1, corr = rho)\n",
    "    print(f'Quanto FwdPrice={qfpx:.4f} for rho={rho:.2f}')"
   ]
  },
  {
   "cell_type": "markdown",
   "id": "e76d268f",
   "metadata": {},
   "source": [
    "The quanto fwd prices increases as the equity-fx correlation increases. \n",
    "Comparing a highly correlated equity-fx correlation, when the equity price rises, the exchange rate would also rise, resulting in anlarger payoff in the end of the contract. However, since the exchange rate is fixed in a quanto contract, the investor actually lose out on the benifit of the rising fx rate, therefore the price of the quanto fwd would increase."
   ]
  },
  {
   "cell_type": "code",
   "execution_count": 29,
   "id": "63523b9e-975d-4afa-bb52-f89c36e6cd7e",
   "metadata": {},
   "outputs": [],
   "source": [
    "samples = np.random.random_sample(10000)\n",
    "std_samples = np.array([qf.normalInvCdf(i) for i in samples])"
   ]
  },
  {
   "cell_type": "code",
   "execution_count": 30,
   "id": "67dad05f",
   "metadata": {},
   "outputs": [],
   "source": [
    "S0 = 100\n",
    "T = 1\n",
    "r = 0.04\n",
    "q = 0.01\n",
    "sigma = 0.4\n"
   ]
  },
  {
   "cell_type": "code",
   "execution_count": 31,
   "id": "162ed9af",
   "metadata": {},
   "outputs": [],
   "source": [
    "ST = S0 * np.exp((r - q - 0.5 * sigma**2) * T + sigma * np.sqrt(T) * std_samples)"
   ]
  },
  {
   "cell_type": "code",
   "execution_count": 32,
   "id": "d5a70a1b",
   "metadata": {},
   "outputs": [
    {
     "name": "stdout",
     "output_type": "stream",
     "text": [
      "The simulated mean is 102.83911146858053, the mean calculated with numerical method is 103.0454533953517, and the difference as a multiple of standard error is 0.4851622396409995\n"
     ]
    }
   ],
   "source": [
    "ST_mean = np.mean(ST)\n",
    "numerical_mean = np.exp((r - q) * T)*S0\n",
    "ST_std = np.std(ST)\n",
    "SE = np.std(ST)/np.sqrt(len(ST))\n",
    "difference = (numerical_mean - ST_mean)/SE\n",
    "print(f'The simulated mean is {ST_mean}, the mean calculated with numerical method is {numerical_mean}, and the difference as a multiple of standard error is {difference}')\n"
   ]
  },
  {
   "cell_type": "code",
   "execution_count": null,
   "id": "7fd05e33",
   "metadata": {},
   "outputs": [],
   "source": []
  }
 ],
 "metadata": {
  "kernelspec": {
   "display_name": "qfgb",
   "language": "python",
   "name": "python3"
  },
  "language_info": {
   "codemirror_mode": {
    "name": "ipython",
    "version": 3
   },
   "file_extension": ".py",
   "mimetype": "text/x-python",
   "name": "python",
   "nbconvert_exporter": "python",
   "pygments_lexer": "ipython3",
   "version": "3.12.8"
  }
 },
 "nbformat": 4,
 "nbformat_minor": 5
}
