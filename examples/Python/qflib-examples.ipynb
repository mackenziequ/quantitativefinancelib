{
 "cells": [
  {
   "cell_type": "markdown",
   "id": "431f3433-79b3-4468-99a7-a8e1c771b141",
   "metadata": {
    "tags": []
   },
   "source": [
    "## qflib Library Examples"
   ]
  },
  {
   "cell_type": "code",
   "execution_count": 1,
   "id": "18bfdc25-3d7d-4508-bf2f-c798f544e650",
   "metadata": {},
   "outputs": [
    {
     "name": "stdout",
     "output_type": "stream",
     "text": [
      "qflib version: 0.1.0-debug\n",
      "pid: 50084\n"
     ]
    }
   ],
   "source": [
    "import qflib as qf\n",
    "import numpy as np\n",
    "import os\n",
    "\n",
    "print(\"qflib version: {0}\".format(qf.version()))\n",
    "print(\"pid: {0}\".format(os.getpid()))"
   ]
  },
  {
   "cell_type": "code",
   "execution_count": 2,
   "id": "89159a01-6357-4134-86db-72162a5a286b",
   "metadata": {},
   "outputs": [
    {
     "name": "stdout",
     "output_type": "stream",
     "text": [
      "Hello World!\n"
     ]
    }
   ],
   "source": [
    "name = \"World\"\n",
    "print(qf.sayHello(name))"
   ]
  },
  {
   "cell_type": "code",
   "execution_count": 3,
   "id": "a09cb38f-fb87-4248-b93b-243dac898e01",
   "metadata": {},
   "outputs": [
    {
     "name": "stdout",
     "output_type": "stream",
     "text": [
      "x: [1, 2, 3]\n",
      "y: [4, 5]\n",
      "outerProd:\n",
      "[[ 4.  5.]\n",
      " [ 8. 10.]\n",
      " [12. 15.]]\n"
     ]
    }
   ],
   "source": [
    "x = [1, 2, 3]\n",
    "y = [4, 5]\n",
    "op = qf.outerProd(x, y)\n",
    "print(f'x: {x}\\ny: {y}')\n",
    "print(f'outerProd:\\n{op}')"
   ]
  },
  {
   "cell_type": "code",
   "execution_count": 5,
   "id": "890d2a0a-435b-4ffe-9887-4dcbde9a529c",
   "metadata": {},
   "outputs": [
    {
     "ename": "RuntimeError",
     "evalue": "Input vectors may not be empty",
     "output_type": "error",
     "traceback": [
      "\u001b[0;31m---------------------------------------------------------------------------\u001b[0m",
      "\u001b[0;31mRuntimeError\u001b[0m                              Traceback (most recent call last)",
      "Cell \u001b[0;32mIn[5], line 1\u001b[0m\n\u001b[0;32m----> 1\u001b[0m \u001b[43mqf\u001b[49m\u001b[38;5;241;43m.\u001b[39;49m\u001b[43mpolyProd\u001b[49m\u001b[43m(\u001b[49m\u001b[43m[\u001b[49m\u001b[43m]\u001b[49m\u001b[43m,\u001b[49m\u001b[43m[\u001b[49m\u001b[38;5;241;43m0\u001b[39;49m\u001b[43m]\u001b[49m\u001b[43m)\u001b[49m\n",
      "File \u001b[0;32m~/qfgb/qflib/qflib-0.1.0/pyqflib/qflib/__init__.py:66\u001b[0m, in \u001b[0;36mpolyProd\u001b[0;34m(vector1, vector2)\u001b[0m\n\u001b[1;32m     51\u001b[0m \u001b[38;5;28;01mdef\u001b[39;00m\u001b[38;5;250m \u001b[39m\u001b[38;5;21mpolyProd\u001b[39m(vector1, vector2):\n\u001b[1;32m     52\u001b[0m \u001b[38;5;250m    \u001b[39m\u001b[38;5;124;03m\"\"\" Computes the coefficients of two polynomial coefficient vectors.\u001b[39;00m\n\u001b[1;32m     53\u001b[0m \n\u001b[1;32m     54\u001b[0m \u001b[38;5;124;03m    Parameters\u001b[39;00m\n\u001b[0;32m   (...)\u001b[0m\n\u001b[1;32m     64\u001b[0m \u001b[38;5;124;03m        coefficient of polynomial multiplication\u001b[39;00m\n\u001b[1;32m     65\u001b[0m \u001b[38;5;124;03m    \"\"\"\u001b[39;00m\n\u001b[0;32m---> 66\u001b[0m     \u001b[38;5;28;01mreturn\u001b[39;00m \u001b[43mpyqflib\u001b[49m\u001b[38;5;241;43m.\u001b[39;49m\u001b[43mpolyProd\u001b[49m\u001b[43m(\u001b[49m\u001b[43mvector1\u001b[49m\u001b[43m,\u001b[49m\u001b[43m \u001b[49m\u001b[43mvector2\u001b[49m\u001b[43m)\u001b[49m\n",
      "\u001b[0;31mRuntimeError\u001b[0m: Input vectors may not be empty"
     ]
    }
   ],
   "source": [
    "# test exception\n",
    "qf.polyProd([],[0])\n"
   ]
  },
  {
   "cell_type": "code",
   "execution_count": 21,
   "id": "e5104d0c-1e7f-4c8e-832f-5c54e2e5c4bf",
   "metadata": {},
   "outputs": [
    {
     "name": "stdout",
     "output_type": "stream",
     "text": [
      "polydeg size: 1\n"
     ]
    },
    {
     "data": {
      "text/plain": [
       "[2.0]"
      ]
     },
     "execution_count": 21,
     "metadata": {},
     "output_type": "execute_result"
    }
   ],
   "source": [
    "# test trailing zeros\n",
    "qf.polyProd([2,0,0], [1,0])"
   ]
  },
  {
   "cell_type": "code",
   "execution_count": 7,
   "id": "e27a20fd-5d6f-4807-95e2-f39b625d45a9",
   "metadata": {},
   "outputs": [
    {
     "name": "stdout",
     "output_type": "stream",
     "text": [
      "polydeg size: 4\n"
     ]
    },
    {
     "data": {
      "text/plain": [
       "[0.0, 2.0, 0.0, 6.0]"
      ]
     },
     "execution_count": 7,
     "metadata": {},
     "output_type": "execute_result"
    }
   ],
   "source": [
    "# test case\n",
    "qf.polyProd([0,2],[1,0,3])"
   ]
  },
  {
   "cell_type": "code",
   "execution_count": 22,
   "id": "db8f167e-ca17-48d7-a5f2-3161721a7030",
   "metadata": {},
   "outputs": [
    {
     "name": "stdout",
     "output_type": "stream",
     "text": [
      "polydeg size: 3\n",
      "polydeg size: 4\n",
      "polydeg size: 5\n",
      "polydeg size: 6\n",
      "polydeg size: 7\n",
      "polydeg size: 8\n"
     ]
    },
    {
     "data": {
      "text/plain": [
       "[array([1.]),\n",
       " array([1., 1.]),\n",
       " [1.0, 2.0, 1.0],\n",
       " [1.0, 3.0, 3.0, 1.0],\n",
       " [1.0, 4.0, 6.0, 4.0, 1.0],\n",
       " [1.0, 5.0, 10.0, 10.0, 5.0, 1.0],\n",
       " [1.0, 6.0, 15.0, 20.0, 15.0, 6.0, 1.0],\n",
       " [1.0, 7.0, 21.0, 35.0, 35.0, 21.0, 7.0, 1.0]]"
      ]
     },
     "execution_count": 22,
     "metadata": {},
     "output_type": "execute_result"
    }
   ],
   "source": [
    "# test pascals triangle\n",
    "l = [np.array([1.]), np.array([1., 1.])]\n",
    "for i in range(6):\n",
    "    l.append(qf.polyProd(l[1], l[i+1]))\n",
    "l"
   ]
  }
 ],
 "metadata": {
  "kernelspec": {
   "display_name": "qfgb",
   "language": "python",
   "name": "python3"
  },
  "language_info": {
   "codemirror_mode": {
    "name": "ipython",
    "version": 3
   },
   "file_extension": ".py",
   "mimetype": "text/x-python",
   "name": "python",
   "nbconvert_exporter": "python",
   "pygments_lexer": "ipython3",
   "version": "3.12.8"
  }
 },
 "nbformat": 4,
 "nbformat_minor": 5
}
